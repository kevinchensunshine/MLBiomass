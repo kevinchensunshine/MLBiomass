{
 "cells": [
  {
   "cell_type": "code",
   "execution_count": 1,
   "metadata": {},
   "outputs": [
    {
     "name": "stdout",
     "output_type": "stream",
     "text": [
      "Package urllib is part of the standard library or not installable via pip.\n",
      "Package types is part of the standard library or not installable via pip.\n",
      "Package json is part of the standard library or not installable via pip.\n",
      "Package os is part of the standard library or not installable via pip.\n"
     ]
    }
   ],
   "source": [
    "packages = {\n",
    "    \"requests\": \"requests\",\n",
    "    \"urllib\": None,  # Part of the standard library, no need to install\n",
    "    \"types\": None,  # Part of the standard library, often no need to install additional packages\n",
    "    \"pandas\": \"pandas\",\n",
    "    \"fiona\": \"fiona\",\n",
    "    \"json\": None,  # Part of the standard library, no need to install\n",
    "    \"numpy\": \"numpy\",\n",
    "    \"geopandas\": \"geopandas\",\n",
    "    \"matplotlib\": \"matplotlib\",\n",
    "    \"pandas\": \"pandas\",\n",
    "    \"tifffile\": \"tifffile\",\n",
    "    \"pyproj\": \"pyproj\",\n",
    "    \"rasterio\": \"rasterio\",\n",
    "    \"aiohttp\": \"aiohttp\",\n",
    "    \"os\": None  # Part of the standard library, no need to install\n",
    "}\n",
    "\n",
    "def install_package(name):\n",
    "    import subprocess\n",
    "    import sys\n",
    "    subprocess.check_call([sys.executable, \"-m\", \"pip\", \"install\", name])\n",
    "\n",
    "for package, install_name in packages.items():\n",
    "    if install_name is not None:\n",
    "        try:\n",
    "            __import__(package)\n",
    "        except ImportError:\n",
    "            print(f\"Package {package} not found, installing {install_name}...\")\n",
    "            install_package(install_name)\n",
    "    else:\n",
    "        print(f\"Package {package} is part of the standard library or not installable via pip.\")\n",
    "        \n",
    "import requests\n",
    "import urllib\n",
    "import concurrent.futures\n",
    "import types\n",
    "import pandas as pd\n",
    "import pickle\n",
    "import json\n",
    "import numpy as np\n",
    "import rasterio\n",
    "import concurrent.futures\n",
    "import time\n",
    "import src.StreetViewData\n",
    "from threading import Lock\n",
    "from pyproj import Transformer\n",
    "import matplotlib.pyplot as plt\n",
    "from multiprocessing import Pool\n",
    "import os"
   ]
  },
  {
   "cell_type": "code",
   "execution_count": 2,
   "metadata": {},
   "outputs": [],
   "source": [
    "folder_dir = \"images\"\n",
    "meta_base = 'https://maps.googleapis.com/maps/api/streetview/metadata?'\n",
    "pic_base = 'https://maps.googleapis.com/maps/api/streetview?'\n",
    "\n",
    "# Insert API Key here\n",
    "\n",
    "api_key = 'API_KEY'\n",
    "meta_params = {'key': api_key,\n",
    "               'location': '36.852833,-121.782302'}\n",
    "pic_params = {'key': api_key,\n",
    "              'location': '36.852833,-121.782302',\n",
    "              'size': \"640x640\",\n",
    "              'souce': 'outdoors'}\n",
    "seen_images = set()"
   ]
  },
  {
   "cell_type": "code",
   "execution_count": 3,
   "metadata": {},
   "outputs": [
    {
     "data": {
      "text/plain": [
       "{'copyright': '© Google',\n",
       " 'date': '2021-05',\n",
       " 'location': {'lat': 36.85277500085382, 'lng': -121.7823315385135},\n",
       " 'pano_id': 'LmAli5-M7Jt4S548oBPwvQ',\n",
       " 'status': 'OK'}"
      ]
     },
     "execution_count": 3,
     "metadata": {},
     "output_type": "execute_result"
    }
   ],
   "source": [
    "# Verify the APi works on a good case\n",
    "\n",
    "meta = requests.get(meta_base, meta_params)\n",
    "meta.json()"
   ]
  },
  {
   "cell_type": "code",
   "execution_count": 4,
   "metadata": {},
   "outputs": [],
   "source": [
    "# Make sure I don't request for duplicate images\n",
    "\n",
    "def load_seen(folder):\n",
    "  seen_list = os.listdir('../{}'.format(folder))\n",
    "  for image_name in seen_list:\n",
    "    loc = image_name.split('_')[0]\n",
    "    seen_images.add(loc)\n",
    "load_seen('images')"
   ]
  },
  {
   "cell_type": "code",
   "execution_count": 5,
   "metadata": {},
   "outputs": [],
   "source": [
    "# Date Filter\n",
    "\n",
    "def image_is_in_season(date):\n",
    "  year, month = map(int, date.split('-'))\n",
    "  return (year == 2018 and month <= 12 and month >= 9)"
   ]
  },
  {
   "cell_type": "code",
   "execution_count": 6,
   "metadata": {},
   "outputs": [],
   "source": [
    "# Reference the metadata to see if the location is good\n",
    "\n",
    "def verify_meta(meta) -> bool:\n",
    "    if meta.status_code == 200:\n",
    "        response_data = meta.json()  # Parse the JSON response\n",
    "        if response_data.get(\"status\") == \"OK\":\n",
    "            return True\n",
    "        else:\n",
    "            return False\n",
    "    else:\n",
    "        return False"
   ]
  },
  {
   "cell_type": "code",
   "execution_count": 7,
   "metadata": {
    "scrolled": true
   },
   "outputs": [],
   "source": [
    "# Load Geo Data\n",
    "# poi = fiona.open(\"../data/geos/wheatfield_shapefields.shp\")\n",
    "\n",
    "# Load Raster Data\n",
    "# poi = rasterio.open(\"../data/rasters/MaskedCropsExport.tif\")"
   ]
  },
  {
   "cell_type": "code",
   "execution_count": 8,
   "metadata": {},
   "outputs": [],
   "source": [
    "# Load globals and close file\n",
    "\n",
    "dataset = rasterio.open('../data/rasters/MaskedCropsExport.tif')\n",
    "indeces = np.where(dataset.read(1) == 3)\n",
    "\n",
    "crs = dataset.crs\n",
    "transformer = Transformer.from_crs(crs, \"EPSG:4326\", always_xy=True)\n",
    "transform = dataset.transform\n",
    "\n",
    "dataset.close()"
   ]
  },
  {
   "cell_type": "code",
   "execution_count": null,
   "metadata": {},
   "outputs": [],
   "source": [
    "# Define value for threading\n",
    "CONNECTIONS = 50\n",
    "TIMEOUT = 5\n",
    "\n",
    "# Define globals\n",
    "output_file = \"succeeded_coordinates.txt\"\n",
    "succeeded = set()\n",
    "count = 0\n",
    "lock = Lock()\n",
    "\n",
    "def write_to_file(lat, lng):\n",
    "    with open(output_file, \"a\") as file:\n",
    "        file.write(f\"{lat},{lng}\\n\")\n",
    "\n",
    "def load_url(params):\n",
    "    global count\n",
    "    meta_response = requests.get(meta_base, params=params)\n",
    "    if verify_meta(meta_response):\n",
    "        resp = meta_response.json()\n",
    "        if image_is_in_season(resp['date']):\n",
    "            lat, lng = (resp['location']['lat'], resp['location']['lng'])\n",
    "            with lock:\n",
    "                if (lat, lng) not in succeeded:\n",
    "                    count += 1\n",
    "                    succeeded.add((lat, lng))\n",
    "                    print(f'Succeeded {count}')\n",
    "                    write_to_file(lat, lng)\n",
    "            return (lat, lng)\n",
    "    return None\n",
    "\n",
    "def run_wheatfield_finder():\n",
    "    \n",
    "    time1 = time.time()\n",
    "    \n",
    "    with concurrent.futures.ThreadPoolExecutor(max_workers=CONNECTIONS) as executor:\n",
    "        \n",
    "        for row, col in zip(indeces[0], indeces[1]):\n",
    "            x, y = transform * (col, row)\n",
    "            long, lat = transformer.transform(x, y)\n",
    "            loc = \"{},{}\".format(lat, long)\n",
    "            curr_params = {'key': api_key, 'location': loc}\n",
    "            _ = executor.submit(load_url, curr_params)\n",
    "        \n",
    "    time2 = time.time()\n",
    "\n",
    "    print(f'Took {time2-time1:.2f} s')\n",
    "    print(f'Processed {len(succeeded)} items.')\n",
    "    \n",
    "run_wheatfield_finder()"
   ]
  },
  {
   "cell_type": "code",
   "execution_count": null,
   "metadata": {},
   "outputs": [],
   "source": [
    "# Cache the results to we dont have to worry about losing the session\n",
    "file_path = 'succeeded2.pkl'\n",
    "\n",
    "with open(file_path, 'wb') as file:\n",
    "    pickle.dump(succeeded, file)\n",
    "\n",
    "print(\"Set saved successfully to\", file_path)"
   ]
  },
  {
   "cell_type": "code",
   "execution_count": 26,
   "metadata": {},
   "outputs": [],
   "source": [
    "# Wrapper to make a request. Takes a location (\"lat,lon\") and bearing (angle), \n",
    "\n",
    "def load_streetview(location, bearing=None):\n",
    "\n",
    "  if (location in seen_images):\n",
    "    return False\n",
    "\n",
    "  meta_params = {'key': api_key,\n",
    "               'location': location}\n",
    "\n",
    "  if bearing is not None:\n",
    "    pic_params = {'key': api_key,\n",
    "                  'location': location,\n",
    "                  'size': \"640x640\",\n",
    "                  'heading': bearing}\n",
    "  else:\n",
    "    pic_params = {'key': api_key,\n",
    "                  'location': location,\n",
    "                  'size': \"640x640\"}\n",
    "  meta_response = requests.get(meta_base, params=meta_params)\n",
    "  if (verify_meta(meta_response) == False):\n",
    "    return False\n",
    "  date = meta_response.json()['date']\n",
    "\n",
    "  if (not image_is_in_season(date)):\n",
    "    return False\n",
    "\n",
    "  pano_id = meta_response.json()['pano_id']\n",
    "  pic_response = requests.get(pic_base, params=pic_params)\n",
    "\n",
    "  pic = StreetViewImage(pic_response, location, bearing, date, pano_id)\n",
    "  pic.save_to_file(folder_dir)\n",
    "  \n",
    "  return True"
   ]
  },
  {
   "cell_type": "code",
   "execution_count": 35,
   "metadata": {},
   "outputs": [
    {
     "name": "stdout",
     "output_type": "stream",
     "text": [
      "57.09021438354,9.68961969413625\n",
      "56.58633670519406,10.18338976599919\n",
      "56.29576478567706,10.51256302815402\n",
      "56.77377733803417,10.09575370219504\n",
      "57.46776741318843,10.46838355136887\n",
      "57.08826473745475,9.68975363902504\n",
      "57.08509306557903,9.689886219090285\n",
      "55.4352423,12.0503643\n",
      "56.9940418243273,8.793626668439625\n",
      "57.46627062886132,10.46813240663957\n",
      "56.96961777756042,9.964977590565224\n",
      "56.29550330357976,10.51347636627355\n",
      "57.00539904222405,8.92911485943123\n",
      "56.60912210532733,10.19254233171912\n",
      "56.90377626499565,9.225489447653015\n",
      "57.17519403493598,10.10988266891233\n",
      "56.77319002820914,10.09369594871309\n",
      "56.77433053956392,10.09840089943665\n",
      "56.33716946282153,10.41150325007182\n",
      "56.94299893906916,10.00640030414075\n",
      "56.94642106946563,10.02126998900725\n",
      "57.46615994382057,10.4681009959445\n",
      "56.99426864838183,8.79412535459956\n",
      "56.77409299319635,10.09700539346028\n",
      "56.77421308554577,10.09761749233185\n",
      "55.209673956247,9.6355746409885\n",
      "57.46704760991851,10.46826995731223\n",
      "57.00019035952798,8.909407442271732\n",
      "56.29407008954148,10.51857752285288\n",
      "56.95549848556685,10.03522689679151\n",
      "56.43041299337802,9.342131496129443\n",
      "57.49799979555566,10.25100929951915\n",
      "56.30268237504234,10.52374704079988\n",
      "57.39722757897345,10.49764369737871\n",
      "57.0958181,9.1677\n",
      "55.777505,12.056291\n",
      "56.77211341468019,10.08972674288209\n",
      "56.43190656905139,9.342297491489239\n",
      "57.08884288639014,9.6897123739363\n",
      "56.99247631042959,8.789545762671048\n",
      "56.99252421198718,8.780028721255773\n",
      "57.46750955397472,10.46833732828806\n",
      "56.3511301322174,10.59509269327396\n"
     ]
    }
   ],
   "source": [
    "# For each viable location, make a request for the image. It will automatically route to the correct folder\n",
    "\n",
    "fail_count = 0\n",
    "bearings = []\n",
    "for loc in succeeded:\n",
    "  print(str(loc[0]) + \",\" + str(loc[1]))\n",
    "  res = load_streetview(str(loc[0]) + \",\" + str(loc[1]), 0)\n",
    "  if (res == False):\n",
    "    fail_count += 1\n",
    "    print(fail_count)"
   ]
  },
  {
   "cell_type": "code",
   "execution_count": null,
   "metadata": {},
   "outputs": [],
   "source": []
  }
 ],
 "metadata": {
  "kernelspec": {
   "display_name": "Python 3 (ipykernel)",
   "language": "python",
   "name": "python3"
  },
  "language_info": {
   "codemirror_mode": {
    "name": "ipython",
    "version": 3
   },
   "file_extension": ".py",
   "mimetype": "text/x-python",
   "name": "python",
   "nbconvert_exporter": "python",
   "pygments_lexer": "ipython3",
   "version": "3.9.13"
  }
 },
 "nbformat": 4,
 "nbformat_minor": 2
}
